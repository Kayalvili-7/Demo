{
 "cells": [
  {
   "cell_type": "code",
   "execution_count": 3,
   "id": "34d17477-fc0a-4fdc-80bc-42269674968b",
   "metadata": {},
   "outputs": [
    {
     "data": {
      "text/plain": [
       "100"
      ]
     },
     "execution_count": 3,
     "metadata": {},
     "output_type": "execute_result"
    }
   ],
   "source": [
    "# cam perform calculations\n",
    "4+12*8"
   ]
  },
  {
   "cell_type": "code",
   "execution_count": 5,
   "id": "18cba115-9620-41f6-8fa1-c48406b14efe",
   "metadata": {},
   "outputs": [],
   "source": [
    "#variables \n",
    "a=10 # creating a variable and assigning value to be stored in the memory\n",
    "b=11"
   ]
  },
  {
   "cell_type": "code",
   "execution_count": 4,
   "id": "711a34f1-5248-4d65-8951-4eeac795e5d0",
   "metadata": {},
   "outputs": [
    {
     "name": "stdout",
     "output_type": "stream",
     "text": [
      "10\n",
      "<class 'int'>\n",
      "140703722554440\n"
     ]
    }
   ],
   "source": [
    "print(a) # print() used to print values\n",
    "print(type(a)) #prints the data type of the value stored in variable a\n",
    "print(id(a)) #symbolic representation of the value"
   ]
  },
  {
   "cell_type": "code",
   "execution_count": 6,
   "id": "21723aec-d683-4ebe-9f90-f010f4fe7c7b",
   "metadata": {},
   "outputs": [
    {
     "name": "stdout",
     "output_type": "stream",
     "text": [
      "11\n",
      "<class 'int'>\n",
      "140703722554472\n"
     ]
    }
   ],
   "source": [
    "print(b) # print() used to print values\n",
    "print(type(b)) #prints the data type of the value stored in variable a\n",
    "print(id(b)) #symbolic representation of the value"
   ]
  },
  {
   "cell_type": "code",
   "execution_count": 7,
   "id": "e1ac893c-6c9d-439b-b029-314ebd3233c6",
   "metadata": {},
   "outputs": [
    {
     "name": "stdout",
     "output_type": "stream",
     "text": [
      "10\n"
     ]
    }
   ],
   "source": [
    "#Rules to create a variables \n",
    "# it must start with alphabet or underscore(_) For Eg: abc=123 or _abc=234\n",
    "# its cant be started with number For Eg:23abc=240\n",
    "# variable cant contain special characters in naming ForEg:_1% (throws error)\n",
    "#variables are case sensitive\n",
    "a=10\n",
    "A=23\n",
    "print(a)"
   ]
  },
  {
   "cell_type": "code",
   "execution_count": 8,
   "id": "7ac7d81a-8487-4e2f-9783-8b2fabbc93b8",
   "metadata": {},
   "outputs": [
    {
     "ename": "SyntaxError",
     "evalue": "invalid syntax (219809279.py, line 2)",
     "output_type": "error",
     "traceback": [
      "\u001b[1;36m  Cell \u001b[1;32mIn[8], line 2\u001b[1;36m\u001b[0m\n\u001b[1;33m    is=90\u001b[0m\n\u001b[1;37m    ^\u001b[0m\n\u001b[1;31mSyntaxError\u001b[0m\u001b[1;31m:\u001b[0m invalid syntax\n"
     ]
    }
   ],
   "source": [
    "# cant allow use reserved keywords\n",
    "is=90 \n",
    "print(is) #throws error"
   ]
  },
  {
   "cell_type": "code",
   "execution_count": null,
   "id": "95911722-c9ee-4b33-9a5c-886bda230928",
   "metadata": {},
   "outputs": [],
   "source": [
    "#types of datatypes\n",
    "#atomic datatype\n",
    "    #int\n",
    "    #float\n",
    "    #string\n",
    "    #boolean\n",
    "    #None\n",
    "    #complex \n",
    "#derived datatypes\n",
    "   #list\n",
    "   #tuple\n",
    "   #dictionary\n",
    "   #set"
   ]
  },
  {
   "cell_type": "code",
   "execution_count": 10,
   "id": "fa953f7b-f005-4e41-9e7d-fa5965728bd4",
   "metadata": {},
   "outputs": [
    {
     "data": {
      "text/plain": [
       "int"
      ]
     },
     "execution_count": 10,
     "metadata": {},
     "output_type": "execute_result"
    }
   ],
   "source": [
    "a=12\n",
    "type(a)"
   ]
  },
  {
   "cell_type": "code",
   "execution_count": 11,
   "id": "1a087a12-448a-4a69-a1c5-ccaaa1b8ff67",
   "metadata": {},
   "outputs": [
    {
     "data": {
      "text/plain": [
       "float"
      ]
     },
     "execution_count": 11,
     "metadata": {},
     "output_type": "execute_result"
    }
   ],
   "source": [
    "b=12.6\n",
    "type(b)"
   ]
  },
  {
   "cell_type": "code",
   "execution_count": 12,
   "id": "29c12baa-ca17-4c0e-9199-f2a6ebcb166d",
   "metadata": {},
   "outputs": [
    {
     "data": {
      "text/plain": [
       "str"
      ]
     },
     "execution_count": 12,
     "metadata": {},
     "output_type": "execute_result"
    }
   ],
   "source": [
    "c='cat'\n",
    "type(c)"
   ]
  },
  {
   "cell_type": "code",
   "execution_count": 14,
   "id": "407db1b5-9092-455b-b101-89a3c3cc17e8",
   "metadata": {},
   "outputs": [
    {
     "data": {
      "text/plain": [
       "bool"
      ]
     },
     "execution_count": 14,
     "metadata": {},
     "output_type": "execute_result"
    }
   ],
   "source": [
    "d=True\n",
    "type(d)"
   ]
  },
  {
   "cell_type": "code",
   "execution_count": 15,
   "id": "be38cd15-3bb8-41d9-bd7b-00fb07727bc7",
   "metadata": {},
   "outputs": [
    {
     "data": {
      "text/plain": [
       "bool"
      ]
     },
     "execution_count": 15,
     "metadata": {},
     "output_type": "execute_result"
    }
   ],
   "source": [
    "e=False\n",
    "type(e)"
   ]
  },
  {
   "cell_type": "code",
   "execution_count": 16,
   "id": "74ccd61a-2657-46f7-b508-07c5914afbd3",
   "metadata": {},
   "outputs": [
    {
     "data": {
      "text/plain": [
       "NoneType"
      ]
     },
     "execution_count": 16,
     "metadata": {},
     "output_type": "execute_result"
    }
   ],
   "source": [
    "f=None\n",
    "type(f)"
   ]
  },
  {
   "cell_type": "code",
   "execution_count": 17,
   "id": "79994b5d-289e-41c6-99a5-3579a901892b",
   "metadata": {},
   "outputs": [
    {
     "data": {
      "text/plain": [
       "complex"
      ]
     },
     "execution_count": 17,
     "metadata": {},
     "output_type": "execute_result"
    }
   ],
   "source": [
    "s=4+3j # 4 is real number and 3j is imaginary number, sqrt of -1 is j\n",
    "type(s)"
   ]
  },
  {
   "cell_type": "code",
   "execution_count": 18,
   "id": "8a69834d-49a5-4a7f-8880-954eca638b2e",
   "metadata": {},
   "outputs": [
    {
     "data": {
      "text/plain": [
       "4.0"
      ]
     },
     "execution_count": 18,
     "metadata": {},
     "output_type": "execute_result"
    }
   ],
   "source": [
    "s.real"
   ]
  },
  {
   "cell_type": "code",
   "execution_count": 20,
   "id": "6a330ef8-b478-4cac-8f0a-cd7fec7b9b35",
   "metadata": {},
   "outputs": [
    {
     "data": {
      "text/plain": [
       "3.0"
      ]
     },
     "execution_count": 20,
     "metadata": {},
     "output_type": "execute_result"
    }
   ],
   "source": [
    "s.imag"
   ]
  },
  {
   "cell_type": "code",
   "execution_count": 21,
   "id": "b20cff93-ab35-412e-ba04-b1c2e5b1800e",
   "metadata": {},
   "outputs": [
    {
     "data": {
      "text/plain": [
       "(4-3j)"
      ]
     },
     "execution_count": 21,
     "metadata": {},
     "output_type": "execute_result"
    }
   ],
   "source": [
    "s.conjugate()"
   ]
  },
  {
   "cell_type": "code",
   "execution_count": 24,
   "id": "59e771ef-0074-449e-bd31-55b2e1d2a594",
   "metadata": {},
   "outputs": [
    {
     "name": "stdout",
     "output_type": "stream",
     "text": [
      "Addition 12\n",
      "Subtraction 8\n",
      "Multiplication 20\n",
      "Modulus 0\n",
      "Division 5.0\n",
      "Floor division 5\n",
      "power 100\n"
     ]
    }
   ],
   "source": [
    "# arithmetic operators\n",
    "a=10\n",
    "b=2\n",
    "\n",
    "print(\"Addition\",a+b)\n",
    "print(\"Subtraction\",a-b)\n",
    "print(\"Multiplication\",a*b)\n",
    "print(\"Modulus\",a%b)\n",
    "print(\"Division\",a/b) \n",
    "print(\"Floor division\",a//b)\n",
    "print(\"power\",a**b)\n",
    "\n"
   ]
  },
  {
   "cell_type": "code",
   "execution_count": 26,
   "id": "567b7b78-6d74-47b5-999d-bcdd07bb68d8",
   "metadata": {},
   "outputs": [
    {
     "name": "stdout",
     "output_type": "stream",
     "text": [
      "a less than b False\n",
      "a greater than b True\n",
      "a Not equal to b True\n"
     ]
    }
   ],
   "source": [
    "# comparision operators\n",
    "a=12\n",
    "b=4\n",
    "\n",
    "print(\"a less than b\",a<b)\n",
    "print(\"a greater than b\",a>b)\n",
    "print(\"a Not equal to b\",a!=b)\n",
    "\n"
   ]
  },
  {
   "cell_type": "code",
   "execution_count": 27,
   "id": "7fb2b56d-8e77-4c21-8027-a95d408d8f98",
   "metadata": {},
   "outputs": [
    {
     "name": "stdout",
     "output_type": "stream",
     "text": [
      "AND operator False\n",
      "OR operator True\n"
     ]
    }
   ],
   "source": [
    "#logical operators\n",
    "a=10\n",
    "b=2\n",
    "\n",
    "c=9\n",
    "d=4\n",
    "print(\"AND operator\",a>b and c<d) # both condition should be true\n",
    "print(\"OR operator\",a>b or c<d) # any one condition should be true\n"
   ]
  },
  {
   "cell_type": "code",
   "execution_count": 30,
   "id": "fbbf8b45-8da0-4ed3-aeec-2b99c45847f3",
   "metadata": {},
   "outputs": [
    {
     "name": "stdout",
     "output_type": "stream",
     "text": [
      "False\n",
      "True\n"
     ]
    }
   ],
   "source": [
    "#identify operator \n",
    "a=10\n",
    "b=10.0\n",
    "print(a is b) # id the identifier id is same and class is same it returns true else false\n",
    "print(a is not b)\n"
   ]
  },
  {
   "cell_type": "code",
   "execution_count": 32,
   "id": "baab87b0-7c9f-42df-9860-4f513c093797",
   "metadata": {},
   "outputs": [
    {
     "name": "stdout",
     "output_type": "stream",
     "text": [
      "True\n",
      "False\n"
     ]
    }
   ],
   "source": [
    "info=\"Python is a programming language\"\n",
    "print(\"Python\" in info)\n",
    "print(\"Python\" not in info)"
   ]
  },
  {
   "cell_type": "code",
   "execution_count": null,
   "id": "cf2ce866-9c5d-424a-bca7-bfdc6d0b6b12",
   "metadata": {},
   "outputs": [],
   "source": [
    "#operator precedence \n",
    "#BODMAS B – Brackets, O – Order of powers or roots, D – Division, M – Multiplication A – Addition, and S – Subtraction\n",
    "#PEMDAS P-parenthesis,E- exponents, M-multiplication,D- division,A- addition, S-subtraction\n"
   ]
  },
  {
   "cell_type": "code",
   "execution_count": 37,
   "id": "2d4c2182-cb98-4575-8711-4e5f22df7bee",
   "metadata": {},
   "outputs": [
    {
     "data": {
      "text/plain": [
       "74"
      ]
     },
     "execution_count": 37,
     "metadata": {},
     "output_type": "execute_result"
    }
   ],
   "source": [
    "50+3*2**3"
   ]
  },
  {
   "cell_type": "code",
   "execution_count": 36,
   "id": "2b24fb67-cea0-4e9f-b5c1-205e9ca080cd",
   "metadata": {},
   "outputs": [
    {
     "data": {
      "text/plain": [
       "266"
      ]
     },
     "execution_count": 36,
     "metadata": {},
     "output_type": "execute_result"
    }
   ],
   "source": [
    "50+(3*2)**3"
   ]
  },
  {
   "cell_type": "code",
   "execution_count": null,
   "id": "17ccf741-f181-4a99-88e6-d7d3f0971911",
   "metadata": {},
   "outputs": [],
   "source": []
  },
  {
   "cell_type": "code",
   "execution_count": 6,
   "id": "7d09e8e2-a45b-474d-b5c6-b99eda820621",
   "metadata": {},
   "outputs": [
    {
     "name": "stdout",
     "output_type": "stream",
     "text": [
      "66\n",
      "1024\n"
     ]
    }
   ],
   "source": [
    "a=4\n",
    "b=3\n",
    "c=2\n",
    "d=a**b+c\n",
    "e=a**(b+c)\n",
    "print(d)\n",
    "print(e)"
   ]
  },
  {
   "cell_type": "code",
   "execution_count": null,
   "id": "2950aa8c-ab12-40f8-bb16-c037022e03cf",
   "metadata": {},
   "outputs": [],
   "source": []
  },
  {
   "cell_type": "code",
   "execution_count": null,
   "id": "8f016faa-c30a-466c-a904-9662021f89cd",
   "metadata": {},
   "outputs": [],
   "source": []
  }
 ],
 "metadata": {
  "kernelspec": {
   "display_name": "Python 3 (ipykernel)",
   "language": "python",
   "name": "python3"
  },
  "language_info": {
   "codemirror_mode": {
    "name": "ipython",
    "version": 3
   },
   "file_extension": ".py",
   "mimetype": "text/x-python",
   "name": "python",
   "nbconvert_exporter": "python",
   "pygments_lexer": "ipython3",
   "version": "3.11.7"
  }
 },
 "nbformat": 4,
 "nbformat_minor": 5
}
